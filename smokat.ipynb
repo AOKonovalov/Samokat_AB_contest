{
 "cells": [
  {
   "cell_type": "markdown",
   "id": "27ea2afc-0732-41a0-b34e-b6b1179b640f",
   "metadata": {},
   "source": [
    "## План\n",
    "\n",
    "1. EDA\n",
    "2. Дизайн А/Б-теста\n",
    "3. Ответы на вопросы"
   ]
  },
  {
   "cell_type": "markdown",
   "id": "76162bbe-53f7-4e6e-a01f-cde37ccf05f3",
   "metadata": {},
   "source": [
    "## EDA\n",
    "---"
   ]
  },
  {
   "cell_type": "code",
   "execution_count": 358,
   "id": "0d0aac8d-24ca-4882-aa4e-75f0329e88c1",
   "metadata": {},
   "outputs": [],
   "source": [
    "import pandas as pd\n",
    "import numpy as np\n",
    "\n",
    "import scipy.stats as ss\n",
    "import pingouin as pg\n",
    "\n",
    "import matplotlib.pyplot as plt\n",
    "import seaborn as sns\n",
    "\n",
    "import requests\n",
    "from urllib.parse import urlencode"
   ]
  },
  {
   "cell_type": "code",
   "execution_count": 359,
   "id": "f54d40ed-3086-486d-91dd-d19c5d7438e2",
   "metadata": {},
   "outputs": [],
   "source": [
    "def get_download_url(public_key):\n",
    "    base_url = 'https://cloud-api.yandex.net/v1/disk/public/resources/download?'\n",
    "    final_url = base_url + urlencode(dict(public_key=public_key))\n",
    "    response = requests.get(final_url)\n",
    "    download_url = response.json()['href']\n",
    "    return download_url"
   ]
  },
  {
   "cell_type": "code",
   "execution_count": 360,
   "id": "45af4e31-c2f8-4365-89d6-369f78280b37",
   "metadata": {},
   "outputs": [],
   "source": [
    "df = pd.read_csv(get_download_url('https://disk.yandex.ru/d/gdXR2lcq7vVutg'),\n",
    "                 sep=';',\n",
    "                 parse_dates=['registration_date', 'activation_date'],\n",
    "                 dayfirst=True)"
   ]
  },
  {
   "cell_type": "code",
   "execution_count": 361,
   "id": "372d5ee3-393d-4ba5-8e90-f464afbb88d1",
   "metadata": {},
   "outputs": [
    {
     "data": {
      "text/html": [
       "<div>\n",
       "<style scoped>\n",
       "    .dataframe tbody tr th:only-of-type {\n",
       "        vertical-align: middle;\n",
       "    }\n",
       "\n",
       "    .dataframe tbody tr th {\n",
       "        vertical-align: top;\n",
       "    }\n",
       "\n",
       "    .dataframe thead th {\n",
       "        text-align: right;\n",
       "    }\n",
       "</style>\n",
       "<table border=\"1\" class=\"dataframe\">\n",
       "  <thead>\n",
       "    <tr style=\"text-align: right;\">\n",
       "      <th></th>\n",
       "      <th>registration_date</th>\n",
       "      <th>activation_date</th>\n",
       "      <th>merchant_id</th>\n",
       "      <th>type</th>\n",
       "      <th>ind_frod</th>\n",
       "    </tr>\n",
       "  </thead>\n",
       "  <tbody>\n",
       "    <tr>\n",
       "      <th>0</th>\n",
       "      <td>2023-12-16</td>\n",
       "      <td>2023-12-24</td>\n",
       "      <td>1</td>\n",
       "      <td>IE</td>\n",
       "      <td>0.0</td>\n",
       "    </tr>\n",
       "    <tr>\n",
       "      <th>1</th>\n",
       "      <td>2023-09-05</td>\n",
       "      <td>2023-09-08</td>\n",
       "      <td>2</td>\n",
       "      <td>IE</td>\n",
       "      <td>0.0</td>\n",
       "    </tr>\n",
       "    <tr>\n",
       "      <th>2</th>\n",
       "      <td>2023-04-16</td>\n",
       "      <td>2023-04-22</td>\n",
       "      <td>3</td>\n",
       "      <td>IE</td>\n",
       "      <td>0.0</td>\n",
       "    </tr>\n",
       "    <tr>\n",
       "      <th>3</th>\n",
       "      <td>2023-12-23</td>\n",
       "      <td>2023-12-24</td>\n",
       "      <td>4</td>\n",
       "      <td>IE</td>\n",
       "      <td>0.0</td>\n",
       "    </tr>\n",
       "    <tr>\n",
       "      <th>4</th>\n",
       "      <td>2023-01-28</td>\n",
       "      <td>NaT</td>\n",
       "      <td>5</td>\n",
       "      <td>IE</td>\n",
       "      <td>0.0</td>\n",
       "    </tr>\n",
       "  </tbody>\n",
       "</table>\n",
       "</div>"
      ],
      "text/plain": [
       "  registration_date activation_date  merchant_id type  ind_frod\n",
       "0        2023-12-16      2023-12-24            1   IE       0.0\n",
       "1        2023-09-05      2023-09-08            2   IE       0.0\n",
       "2        2023-04-16      2023-04-22            3   IE       0.0\n",
       "3        2023-12-23      2023-12-24            4   IE       0.0\n",
       "4        2023-01-28             NaT            5   IE       0.0"
      ]
     },
     "execution_count": 361,
     "metadata": {},
     "output_type": "execute_result"
    }
   ],
   "source": [
    "df.head()"
   ]
  },
  {
   "cell_type": "code",
   "execution_count": 362,
   "id": "3983c4cf-5673-4bc4-aafa-de85372de8c0",
   "metadata": {},
   "outputs": [
    {
     "name": "stdout",
     "output_type": "stream",
     "text": [
      "<class 'pandas.core.frame.DataFrame'>\n",
      "RangeIndex: 35000 entries, 0 to 34999\n",
      "Data columns (total 5 columns):\n",
      " #   Column             Non-Null Count  Dtype         \n",
      "---  ------             --------------  -----         \n",
      " 0   registration_date  35000 non-null  datetime64[ns]\n",
      " 1   activation_date    20300 non-null  datetime64[ns]\n",
      " 2   merchant_id        35000 non-null  int64         \n",
      " 3   type               35000 non-null  object        \n",
      " 4   ind_frod           34300 non-null  float64       \n",
      "dtypes: datetime64[ns](2), float64(1), int64(1), object(1)\n",
      "memory usage: 1.3+ MB\n"
     ]
    }
   ],
   "source": [
    "df.info()"
   ]
  },
  {
   "cell_type": "markdown",
   "id": "39a4d4f4-443f-45d0-84f3-32dd16d1b624",
   "metadata": {},
   "source": [
    "---\n",
    "Всего в датафрейме 35000 строк. Видим, что у `ind_frod` есть 700 пропусков, почистим это поле сразу от пропусков и выбросов (оставляем только 1 и 0)\n",
    "\n"
   ]
  },
  {
   "cell_type": "code",
   "execution_count": 363,
   "id": "8f4d79c5-5d22-4e6d-9b95-d4bdb02ebb16",
   "metadata": {},
   "outputs": [],
   "source": [
    "df = df.query(' 0 <= ind_frod <= 1')"
   ]
  },
  {
   "cell_type": "markdown",
   "id": "001d9489-b191-4ff0-9b64-98d10cd23587",
   "metadata": {},
   "source": [
    "---\n",
    "Посмотрим на уникальные значения в данных\n"
   ]
  },
  {
   "cell_type": "code",
   "execution_count": 364,
   "id": "a0c5cb0f-68b2-4ff9-b435-b15b1ee02df8",
   "metadata": {},
   "outputs": [
    {
     "data": {
      "text/plain": [
       "registration_date      365\n",
       "activation_date        380\n",
       "merchant_id          34300\n",
       "type                     2\n",
       "ind_frod                 2\n",
       "dtype: int64"
      ]
     },
     "execution_count": 364,
     "metadata": {},
     "output_type": "execute_result"
    }
   ],
   "source": [
    "df.nunique()"
   ]
  },
  {
   "cell_type": "markdown",
   "id": "878c62ca-3043-4fd6-97b6-957de1e55b2f",
   "metadata": {},
   "source": [
    "\n",
    "Видим что все `merchant_id` уникальные\n",
    "\n",
    "---\n",
    "Теперь поработаем с датами\n",
    "\n",
    "---"
   ]
  },
  {
   "cell_type": "code",
   "execution_count": 365,
   "id": "8955e34d-4d29-496d-90dc-02f2cff6d629",
   "metadata": {},
   "outputs": [
    {
     "name": "stdout",
     "output_type": "stream",
     "text": [
      "1970-01-01 00:00:00 2023-12-31 00:00:00\n"
     ]
    }
   ],
   "source": [
    "# Смотрим, за какой временной период у нас есть данные по регистрации\n",
    "print(df.registration_date.min(), df.registration_date.max())"
   ]
  },
  {
   "cell_type": "markdown",
   "id": "d64fa07f-48ae-4167-bf85-bf738fb71bbf",
   "metadata": {},
   "source": [
    "---\n",
    "Видим что даты регистрации начинаются с 1970-01-01 - это равняется 0 в Unix-формате.\n",
    "\n",
    "Скорее всего произошел баг и дата регистрации занулилась, либо это были тестовые регистрации \n",
    "\n",
    "посмотрим вторую минимальную дату и кол-во таких ошибок"
   ]
  },
  {
   "cell_type": "code",
   "execution_count": 366,
   "id": "5e95c06a-15a4-4e37-9691-3b25ddbacf17",
   "metadata": {},
   "outputs": [
    {
     "name": "stdout",
     "output_type": "stream",
     "text": [
      "[Timestamp('1970-01-01 00:00:00'), Timestamp('2023-01-02 00:00:00')]\n",
      "-----\n",
      "173\n",
      "-----\n",
      "85\n"
     ]
    }
   ],
   "source": [
    "print(sorted(df.registration_date.unique())[0:2])\n",
    "print(\"-----\")\n",
    "print((df.registration_date == '1970-01-01').sum())\n",
    "print(\"-----\")\n",
    "print(df.query('registration_date == @pd.Timestamp(\"01.01.1970\") and activation_date.notnull()').shape[0])"
   ]
  },
  {
   "cell_type": "markdown",
   "id": "55eab235-ddf1-449c-a0ac-a22b999e8009",
   "metadata": {},
   "source": [
    "---\n",
    "В целом таких наблюдений немного, однако при этом 85 из 175 разарегистрированных продавцов ставли активными \n",
    "\n",
    "Вторая минимальная дата 2023-01-02, можно предположить, что ошибка была при записи даты регистрации 1 января 2023\n",
    "\n",
    "У нас есть 2 варианта: или удалить эти данные или перезаписать как 2023-01-01\n",
    "\n",
    "Так как таких наблюдений не так много можем удалить их"
   ]
  },
  {
   "cell_type": "code",
   "execution_count": 367,
   "id": "4ca4f02f-8751-4057-8a24-ab7eda281bba",
   "metadata": {},
   "outputs": [],
   "source": [
    "df = df.query(\"registration_date != @pd.Timestamp('1970-01-01')\")"
   ]
  },
  {
   "cell_type": "markdown",
   "id": "e77af847-be8d-4558-b362-6ac0ef5acfd5",
   "metadata": {},
   "source": [
    "---\n",
    "Также стоит проверить наличие ошибок в записях даты активации, есть ли записи, где `activation_date` < `registration_date`?\n",
    "\n"
   ]
  },
  {
   "cell_type": "code",
   "execution_count": 368,
   "id": "6ccbc1d7-d362-43d0-9faf-3f9b183d0675",
   "metadata": {},
   "outputs": [
    {
     "data": {
      "text/plain": [
       "19"
      ]
     },
     "execution_count": 368,
     "metadata": {},
     "output_type": "execute_result"
    }
   ],
   "source": [
    "df.query('activation_date < registration_date').shape[0]"
   ]
  },
  {
   "cell_type": "code",
   "execution_count": 369,
   "id": "a987c170-ddca-4f19-b7d3-e384f3a0e670",
   "metadata": {},
   "outputs": [
    {
     "name": "stdout",
     "output_type": "stream",
     "text": [
      "2023-01-03 00:00:00 2024-08-30 00:00:00\n"
     ]
    }
   ],
   "source": [
    "# Такие записи есть, их всего 19 можем смело исключить их\n",
    "df = df.query('activation_date >= registration_date or activation_date.isnull()')\n",
    "\n",
    "# Смотрим, за какой временной период у нас есть данные по активации\n",
    "print(df.activation_date.min(), df.activation_date.max())"
   ]
  },
  {
   "cell_type": "code",
   "execution_count": 370,
   "id": "7c95416d-93da-408e-bb4c-b976fe9a3ff9",
   "metadata": {},
   "outputs": [
    {
     "data": {
      "text/html": [
       "<div>\n",
       "<style scoped>\n",
       "    .dataframe tbody tr th:only-of-type {\n",
       "        vertical-align: middle;\n",
       "    }\n",
       "\n",
       "    .dataframe tbody tr th {\n",
       "        vertical-align: top;\n",
       "    }\n",
       "\n",
       "    .dataframe thead th {\n",
       "        text-align: right;\n",
       "    }\n",
       "</style>\n",
       "<table border=\"1\" class=\"dataframe\">\n",
       "  <thead>\n",
       "    <tr style=\"text-align: right;\">\n",
       "      <th></th>\n",
       "      <th>registration_date</th>\n",
       "      <th>activation_date</th>\n",
       "      <th>merchant_id</th>\n",
       "      <th>type</th>\n",
       "      <th>ind_frod</th>\n",
       "    </tr>\n",
       "  </thead>\n",
       "  <tbody>\n",
       "    <tr>\n",
       "      <th>34890</th>\n",
       "      <td>2023-08-23</td>\n",
       "      <td>2024-08-30</td>\n",
       "      <td>34891</td>\n",
       "      <td>LLC</td>\n",
       "      <td>0.0</td>\n",
       "    </tr>\n",
       "    <tr>\n",
       "      <th>29939</th>\n",
       "      <td>2023-12-31</td>\n",
       "      <td>2024-01-11</td>\n",
       "      <td>29940</td>\n",
       "      <td>LLC</td>\n",
       "      <td>1.0</td>\n",
       "    </tr>\n",
       "    <tr>\n",
       "      <th>23723</th>\n",
       "      <td>2023-12-31</td>\n",
       "      <td>2024-01-11</td>\n",
       "      <td>23724</td>\n",
       "      <td>IE</td>\n",
       "      <td>0.0</td>\n",
       "    </tr>\n",
       "    <tr>\n",
       "      <th>23813</th>\n",
       "      <td>2023-12-30</td>\n",
       "      <td>2024-01-10</td>\n",
       "      <td>23814</td>\n",
       "      <td>IE</td>\n",
       "      <td>0.0</td>\n",
       "    </tr>\n",
       "    <tr>\n",
       "      <th>9272</th>\n",
       "      <td>2023-12-31</td>\n",
       "      <td>2024-01-10</td>\n",
       "      <td>9273</td>\n",
       "      <td>IE</td>\n",
       "      <td>0.0</td>\n",
       "    </tr>\n",
       "  </tbody>\n",
       "</table>\n",
       "</div>"
      ],
      "text/plain": [
       "      registration_date activation_date  merchant_id type  ind_frod\n",
       "34890        2023-08-23      2024-08-30        34891  LLC       0.0\n",
       "29939        2023-12-31      2024-01-11        29940  LLC       1.0\n",
       "23723        2023-12-31      2024-01-11        23724   IE       0.0\n",
       "23813        2023-12-30      2024-01-10        23814   IE       0.0\n",
       "9272         2023-12-31      2024-01-10         9273   IE       0.0"
      ]
     },
     "execution_count": 370,
     "metadata": {},
     "output_type": "execute_result"
    }
   ],
   "source": [
    "# Посмотрим на наблюдения с датой активации в 2024 году\n",
    "df.query('activation_date > \"31.12.2023\"').sort_values('activation_date', ascending=False).head()"
   ]
  },
  {
   "cell_type": "code",
   "execution_count": 371,
   "id": "939054db-c991-4401-a440-4db8f5dcb355",
   "metadata": {},
   "outputs": [],
   "source": [
    "# видим, что есть наблюдение где активация произошла позже, чем через год, уддалим\n",
    "df.drop(34890, inplace=True)"
   ]
  },
  {
   "cell_type": "code",
   "execution_count": 372,
   "id": "2dc6f644-aefe-436d-bba5-507829d0f27d",
   "metadata": {},
   "outputs": [
    {
     "name": "stdout",
     "output_type": "stream",
     "text": [
      "<class 'pandas.core.frame.DataFrame'>\n",
      "Index: 34107 entries, 0 to 34999\n",
      "Data columns (total 5 columns):\n",
      " #   Column             Non-Null Count  Dtype         \n",
      "---  ------             --------------  -----         \n",
      " 0   registration_date  34107 non-null  datetime64[ns]\n",
      " 1   activation_date    19796 non-null  datetime64[ns]\n",
      " 2   merchant_id        34107 non-null  int64         \n",
      " 3   type               34107 non-null  object        \n",
      " 4   ind_frod           34107 non-null  float64       \n",
      "dtypes: datetime64[ns](2), float64(1), int64(1), object(1)\n",
      "memory usage: 1.6+ MB\n"
     ]
    }
   ],
   "source": [
    "df.info()"
   ]
  },
  {
   "cell_type": "markdown",
   "id": "308b42b7-71de-4b99-b0c6-d3fe6156e669",
   "metadata": {},
   "source": [
    "---\n",
    "**Теперь данные чистые и полные, можем исследовать**\n",
    "\n",
    "---"
   ]
  },
  {
   "cell_type": "markdown",
   "id": "a11259aa-86ea-4b1f-9d2c-50c5c5d425c2",
   "metadata": {},
   "source": [
    "Так как активация означет, что пользователь **\"прошел все этапы регистрации и может продавать товар\"** вытащим пользователей которые прошли регистрацию в отдельный dataframe"
   ]
  },
  {
   "cell_type": "code",
   "execution_count": 373,
   "id": "b46b3d85-c5a7-42ad-ae9f-ffdaecc918ec",
   "metadata": {},
   "outputs": [],
   "source": [
    "activ_df = df.query('activation_date.notnull()')"
   ]
  },
  {
   "cell_type": "markdown",
   "id": "081a1032-44b9-4378-ada1-c478554bd4b5",
   "metadata": {},
   "source": [
    "---\n",
    "Посмотрим на долю юзеров которые активировались после регистрации\n",
    "\n"
   ]
  },
  {
   "cell_type": "code",
   "execution_count": 374,
   "id": "5d6b2b95-680c-429f-b5d6-5e2959b858ae",
   "metadata": {},
   "outputs": [
    {
     "name": "stdout",
     "output_type": "stream",
     "text": [
      "58.04087137537749\n"
     ]
    }
   ],
   "source": [
    "print(activ_df.shape[0]/ df.shape[0] * 100)"
   ]
  },
  {
   "cell_type": "markdown",
   "id": "95978369-2f9a-45a7-b5a6-f8593a32b276",
   "metadata": {},
   "source": [
    "\n",
    "До активации доходят ≈ 58% продавцов - это наша **конверсия в активацию**, в дизайне экспереимента можем взять ее в качестве контр метрики\n",
    "\n",
    "---\n",
    "\n",
    "Исследуем данные по `ind_drod`"
   ]
  },
  {
   "cell_type": "code",
   "execution_count": 375,
   "id": "b08ac01a-534f-4a71-bc3e-463a7bf8fc45",
   "metadata": {},
   "outputs": [
    {
     "data": {
      "text/plain": [
       "8.0774"
      ]
     },
     "execution_count": 375,
     "metadata": {},
     "output_type": "execute_result"
    }
   ],
   "source": [
    "# Посмотрим на %мошенников среди всех активированных пользователей\n",
    "round(activ_df.query('ind_frod == 1').shape[0] / activ_df.shape[0] * 100, 4)"
   ]
  },
  {
   "cell_type": "code",
   "execution_count": 376,
   "id": "344ccfe6-2cb6-4f37-ac91-959ff72de38c",
   "metadata": {},
   "outputs": [
    {
     "name": "stdout",
     "output_type": "stream",
     "text": [
      "type\n",
      "IE     85.178236\n",
      "LLC    14.821764\n",
      "Name: merchant_id, dtype: float64\n"
     ]
    }
   ],
   "source": [
    "# теперь посмотрим на долю мошенников в разрезе type\n",
    "print(activ_df.query('ind_frod == 1').groupby('type').merchant_id.count() / activ_df.query('ind_frod == 1').shape[0] * 100)"
   ]
  },
  {
   "cell_type": "markdown",
   "id": "bdb5d69b-a8c7-417a-929c-32759bea0389",
   "metadata": {},
   "source": [
    "**В основном мошенники именно IE(ИП) ≈ 85% , но среди LLC(ООО) ≈ 15% тоже мошенники, будем это учитывать при оценке эффективность антифрод ML-модели**\n",
    "\n",
    "---"
   ]
  },
  {
   "cell_type": "markdown",
   "id": "0b4bc86b-c843-47be-b698-a0a8afd95c34",
   "metadata": {},
   "source": [
    "Посмотрим на кол-во регистраций по дням"
   ]
  },
  {
   "cell_type": "code",
   "execution_count": 377,
   "id": "277a8bfe-d917-4de8-a9d7-475f3d7c5a20",
   "metadata": {},
   "outputs": [
    {
     "data": {
      "text/plain": [
       "<Axes: xlabel='merchant_id', ylabel='Count'>"
      ]
     },
     "execution_count": 377,
     "metadata": {},
     "output_type": "execute_result"
    },
    {
     "data": {
      "image/png": "[encoded data removed]",
      "text/plain": [
       "<Figure size 640x480 with 1 Axes>"
      ]
     },
     "metadata": {},
     "output_type": "display_data"
    }
   ],
   "source": [
    "sns.histplot(df.groupby('registration_date').merchant_id.count())"
   ]
  },
  {
   "cell_type": "code",
   "execution_count": 378,
   "id": "46506659-2f07-4790-9254-08d7e38e9102",
   "metadata": {},
   "outputs": [
    {
     "data": {
      "text/plain": [
       "count    364.000000\n",
       "mean      93.700549\n",
       "std        9.706202\n",
       "min       59.000000\n",
       "25%       88.000000\n",
       "50%       94.000000\n",
       "75%      100.000000\n",
       "max      120.000000\n",
       "Name: merchant_id, dtype: float64"
      ]
     },
     "execution_count": 378,
     "metadata": {},
     "output_type": "execute_result"
    }
   ],
   "source": [
    "df.groupby('registration_date').merchant_id.count().describe()"
   ]
  },
  {
   "cell_type": "markdown",
   "id": "0536b4ad-25fe-40c9-83d4-6a37e372825e",
   "metadata": {},
   "source": [
    "Среднее кол-во регистраций в день ≈ 94.\n",
    "\n",
    "---"
   ]
  },
  {
   "cell_type": "markdown",
   "id": "194f83e0-b98b-4ca3-adc8-2c4428ba022a",
   "metadata": {},
   "source": [
    "## Дизайн A/B-теста\n",
    "---"
   ]
  },
  {
   "cell_type": "markdown",
   "id": "c20a858e-02f0-4c6d-a2cb-95636a3450d5",
   "metadata": {},
   "source": [
    "### Определим метрики и гипотезы\n",
    "---"
   ]
  },
  {
   "cell_type": "markdown",
   "id": "54559030-9b3d-422f-bbf4-423689ed36d1",
   "metadata": {},
   "source": [
    "\n",
    "\n",
    "**метрики успеха и контр метрики:**\n",
    "\n",
    "- основная метриа - доля активированных фродеров среди всех активированных продавцов\n",
    "- контр метрика - конверсия в ативацию\n",
    "\n",
    "Как мы ранее узнали, большинство вродеров являются ИП, поэтому важно, чтобы снижение доли фродеров было преимущественно за счет снижения доли фродеров ИП, поэтому можно выделить прокси метрику:\n",
    "- прокси метрика - доля активированных фродеров среди всех активированных продавцов в разрезе формы организации бизнеса\n",
    "\n",
    "**Соответственно определяем гипотезы:**\n",
    "\n",
    "- для основновной и прокси метрки:\n",
    "\n",
    "\n",
    "   **H<sub>0</sub> :** внедрение модели определения мошенников на этапе регистрации не изменяет долю активированных фродеров среди всех активированных продавцов\n",
    "\n",
    "  \n",
    "    **H<sub>1</sub> :** внедрение модели определения мошенников на этапе регистрации снижает долю активированных фродеров среди всех активированных продавцов\n",
    "\n",
    "- для контр метрики:\n",
    "\n",
    "  \n",
    "    **H<sub>0</sub> :** внедрение модели определения мошенников на этапе регистрации не изменяет конверсию в платящего\n",
    "\n",
    "  \n",
    "    **H<sub>1</sub> :** внедрение модели определения мошенников на этапе регистрации снижает конверсию в платящего\n",
    "\n"
   ]
  },
  {
   "cell_type": "code",
   "execution_count": 379,
   "id": "1a89058f-33fe-4ef5-9c9e-f5eda1832729",
   "metadata": {},
   "outputs": [
    {
     "name": "stdout",
     "output_type": "stream",
     "text": [
      "доля фродеров среди активированных продавцов: 8.0774\n",
      "конверсия в активацию: 58.0409\n"
     ]
    }
   ],
   "source": [
    "#Посчитаем наши метрики:\n",
    "print(\"доля фродеров среди активированных продавцов:\",  round(activ_df.query('ind_frod == 1').shape[0] / activ_df.shape[0] * 100, 4) )\n",
    "print(\"конверсия в активацию:\",  round(df['activation_date'].apply(lambda x: 1 if x is not pd.NaT else 0).mean() * 100, 4))"
   ]
  },
  {
   "cell_type": "code",
   "execution_count": 380,
   "id": "b5ca5ff1-4fff-4335-a135-8e207a640fe8",
   "metadata": {},
   "outputs": [
    {
     "name": "stdout",
     "output_type": "stream",
     "text": [
      "доля фродеров среди активированных продавцов в разрезе формы организации бизнеса: \n",
      " type\n",
      "IE     9.553872\n",
      "LLC    4.277978\n",
      "Name: merchant_id, dtype: float64\n"
     ]
    }
   ],
   "source": [
    "print(\"доля фродеров среди активированных продавцов в разрезе формы организации бизнеса: \\n\", \n",
    "      activ_df.query('ind_frod == 1').groupby('type').merchant_id.count() / activ_df.groupby('type').merchant_id.count() * 100)"
   ]
  },
  {
   "cell_type": "markdown",
   "id": "a3f053c9-8a62-48c7-b7b9-2690e489a9f9",
   "metadata": {},
   "source": [
    "### Выбор теста, определение основных параметров: \n",
    "**уровень значимость, мощность, MDE, размер выборки и срок проведения теста**\n",
    "\n",
    "---"
   ]
  },
  {
   "cell_type": "markdown",
   "id": "9e52e579-15a1-4fb8-bb09-69c0d0a527b8",
   "metadata": {},
   "source": [
    "Для проверки стат. значимости изменения основной метрики (доля активированных фродеров среди всех активированных юзеров) можно использовать z-test, так как метрика является пропорцией, а z-test предназначен для работы с долями. \n",
    "\n",
    "Можно также использывать и t-test, так как доля фродеров - это среднее от 0 до 1, согласно Центральной предельной теореме при больших выборках распределение средних приближается к нормальному распределению. Только тут нужно учитывать возможность гетероскедастичности (разности дисперсий в двух группах) и лучше использовать t-test Уэлча, если гетероскедастичности не будет, тест отработает также как t-test Стьюдента.\n",
    "\n",
    "Остановимся на t-test Уэлча, будем использовать его (добавим параметр `equal_var=False`)."
   ]
  },
  {
   "cell_type": "markdown",
   "id": "8c62a379-9f30-4c6d-90b2-339b49b65f7d",
   "metadata": {},
   "source": [
    "---\n",
    "Уровень значимости (α) = 0.05.\n",
    "\n",
    "Мощность (1 - β) = 0.8.\n",
    "\n",
    "Так как мы хотим миинимизировать долю мошенников в активированных юзерах мы можем разбит тест на 2 части:\n",
    "\n",
    "1. запускаем и ждем когда наберется выборка, которая позволит нам статистически значимо заметить снижение доли фродеров до 5% (MDE = 40% или снижение на 3,31 п.п)\n",
    "\n",
    "    считаем статистику и делаем выводы\n",
    "\n",
    "2. ждем когда наберется выбока, которая позволит нам статистически значимо заметить снижение доли фродеров на 25% (MDE = 25% или снижение на 2,1 п.п)ие \n",
    "\n",
    "    ститаем статистику делаем выводы\n",
    "\n",
    "\n",
    "Такой подход позволит нам в случае удачной работы антифрод Ml-модели выявить хорошее снижение доли мошенников (на 40%) за более короткий срок, а если стат значимого результата не будет на для такого MDE, то подождем еще, чтобы задетектить снижение доли мошенников на 25%.\n",
    "\n",
    "Определим необходимый объем выборки - n и срок проведения"
   ]
  },
  {
   "cell_type": "markdown",
   "id": "5c37b255-618f-4fc1-b334-897a91ef1e3a",
   "metadata": {},
   "source": [
    "Для оределения n проведем симуляции. Мы хотим понять при какой, как часто мы будем фиксировать стат. значимые различия. Проведем 1000 таких экспериментов, т. е. в цикле 10000 раз проведем t-тест, который будет сравнивать 2 выборки из двух разных распределений (контрольная и тестовая группа)."
   ]
  },
  {
   "cell_type": "code",
   "execution_count": 381,
   "id": "484c48a5-3be7-41f1-b834-aff11edc993b",
   "metadata": {},
   "outputs": [],
   "source": [
    "mu = activ_df.ind_frod.describe()['mean']\n",
    "sigma = activ_df.ind_frod.describe()['std']\n",
    "n = 1125\n",
    "diff = 0.4\n",
    "\n",
    "n_trials = 10000\n",
    "significant_count = 0"
   ]
  },
  {
   "cell_type": "code",
   "execution_count": 382,
   "id": "c6bd5729-9200-4074-b5d1-9c68e5e193bb",
   "metadata": {},
   "outputs": [
    {
     "data": {
      "text/plain": [
       "0.8043"
      ]
     },
     "execution_count": 382,
     "metadata": {},
     "output_type": "execute_result"
    }
   ],
   "source": [
    "for i in range(n_trials):\n",
    "    control_group = np.random.normal(mu, sigma, n)\n",
    "    exp_group = np.random.normal(mu - mu * diff, sigma, n)\n",
    "    test_fit = ss.ttest_ind(control_group, exp_group, equal_var=False)\n",
    "    if test_fit.pvalue < 0.05:\n",
    "        significant_count += 1\n",
    "# В каком % случаев наш стат. тест показал стат. значимые различия, т.е. мощность (1 - β) = \n",
    "significant_count / n_trials"
   ]
  },
  {
   "cell_type": "markdown",
   "id": "910761f7-8c1b-4fc9-a9ae-9563d85da4fb",
   "metadata": {},
   "source": [
    "Таким образом при 1125 наблюдений мы сможем задетектить наш MDE = 40%, если взять 1124, мощность теста быдет ниже 80%\n",
    "\n",
    "Теперь расчитаем n для MDE = 25%"
   ]
  },
  {
   "cell_type": "code",
   "execution_count": 383,
   "id": "6f2ad70a-08eb-43ea-8631-dbcdaba6ef40",
   "metadata": {},
   "outputs": [],
   "source": [
    "mu = activ_df.ind_frod.describe()['mean']\n",
    "sigma = activ_df.ind_frod.describe()['std']\n",
    "n_1 = 2900\n",
    "diff_1 = 0.25\n",
    "\n",
    "n_trials = 10000\n",
    "significant_count_1 = 0"
   ]
  },
  {
   "cell_type": "code",
   "execution_count": 384,
   "id": "37b8c962-00d1-433c-8427-b63370d1249b",
   "metadata": {},
   "outputs": [
    {
     "data": {
      "text/plain": [
       "0.8084"
      ]
     },
     "execution_count": 384,
     "metadata": {},
     "output_type": "execute_result"
    }
   ],
   "source": [
    "for i in range(n_trials):\n",
    "    control_group = np.random.normal(mu, sigma, n_1)\n",
    "    exp_group = np.random.normal(mu - mu * diff_1, sigma, n_1)\n",
    "    test_fit = ss.ttest_ind(control_group, exp_group, equal_var=False)\n",
    "    if test_fit.pvalue < 0.05:\n",
    "        significant_count_1 += 1\n",
    "# В каком % случаев наш стат. тест показал стат. значимые различия, т.е. мощность (1 - β) = \n",
    "significant_count_1 / n_trials"
   ]
  },
  {
   "cell_type": "markdown",
   "id": "5a4cc040-b844-4232-9cc2-14d931def5dc",
   "metadata": {},
   "source": [
    "Таким образом при 2900 наблюдений мы сможем задетектить наш MDE = 40%\n",
    "\n",
    "Теперь расчитаем сколько времени нам потребуется для нахождения n и n_1"
   ]
  },
  {
   "cell_type": "code",
   "execution_count": 385,
   "id": "34f58c4f-8951-4af0-850e-f8592972738d",
   "metadata": {},
   "outputs": [
    {
     "data": {
      "text/plain": [
       "count    364.000000\n",
       "mean      54.384615\n",
       "std        7.489599\n",
       "min       28.000000\n",
       "25%       50.000000\n",
       "50%       54.000000\n",
       "75%       60.000000\n",
       "max       74.000000\n",
       "Name: merchant_id, dtype: float64"
      ]
     },
     "execution_count": 385,
     "metadata": {},
     "output_type": "execute_result"
    }
   ],
   "source": [
    "# посмотрим, сколько у нас продавцов было активировано в разбивке по каждому дню.\n",
    "activ_df.groupby('registration_date').merchant_id.count().describe()"
   ]
  },
  {
   "cell_type": "markdown",
   "id": "7abd7347-d5bc-43fc-8c34-d3fc9fedf4be",
   "metadata": {},
   "source": [
    "В среднем у нас регистрируются и активируются впоследствии ≈ 54 продавца в день (те, кто пройдут полную процедуру регистрации)."
   ]
  },
  {
   "cell_type": "code",
   "execution_count": 386,
   "id": "e1e40bcd-f525-415c-bedf-88cb90afeca0",
   "metadata": {},
   "outputs": [
    {
     "name": "stdout",
     "output_type": "stream",
     "text": [
      "42.0\n",
      "108.0\n"
     ]
    }
   ],
   "source": [
    "print(np.ceil(n*2/54), np.ceil(n_1*2/54), sep='\\n')"
   ]
  },
  {
   "cell_type": "markdown",
   "id": "283dc57d-0a4d-4065-a53c-0c24507736a2",
   "metadata": {},
   "source": [
    "Таким образом для обнаружения MDE=40% нам надо ждать 42 дня, а для обнаружения MDE=25% - 108 дней"
   ]
  },
  {
   "cell_type": "markdown",
   "id": "1e7890ca-65b3-4c8a-b4e2-7593ab49d44f",
   "metadata": {},
   "source": [
    "### Разбиение на группы и А/А-тест"
   ]
  },
  {
   "cell_type": "markdown",
   "id": "55d6bdbd-0a9a-46f2-8118-d5df0ebc140e",
   "metadata": {},
   "source": [
    "В рамках A/B-теста мы будем всех продавцов распределять случайным образом делить на две равные группы: тестовую (50%) и контрольную (50%).\n",
    "\n",
    "На имеющихся исторических данных проведем A/A-тестирование. Таким способом мы:\n",
    "\n",
    "проверим, насколько наши данные подвержены отклонениям, не связанным с проведением A/B-теста\n",
    "совершим те же самые действия, которые мы потом будем совершать при проведении настоящего A/B теста\n",
    "Проведем предварительный набор A/A-тестов с расчетом p-value, которое в случае корректности сплитования и выбора критериев будет распределено равномерно.\n",
    "\n",
    "Берем activation_df так как для расчета основной метрики нам нужно посчитать долю фродеров среди именно активированных юзеров."
   ]
  },
  {
   "cell_type": "code",
   "execution_count": 334,
   "id": "1e73bcfd-c73a-4a3e-b61c-cdfb7abe7a85",
   "metadata": {},
   "outputs": [],
   "source": [
    "sample_size = 2900\n",
    "p_values_frod_share = []\n",
    "\n",
    "for i in range(10000):\n",
    "    control = activ_df.sample(sample_size)\n",
    "    test = activ_df.drop(control.index).sample(sample_size)\n",
    "    result_frod_share = ss.ttest_ind(control.ind_frod, test.ind_frod, equal_var=False)\n",
    "    pval_frod_share = result_frod_share.pvalue\n",
    "    p_values_frod_share.append(pval_frod_share)"
   ]
  },
  {
   "cell_type": "code",
   "execution_count": 335,
   "id": "a716f952-cf16-439a-a4d4-4b5cfad410a7",
   "metadata": {},
   "outputs": [
    {
     "data": {
      "text/plain": [
       "<Axes: ylabel='Count'>"
      ]
     },
     "execution_count": 335,
     "metadata": {},
     "output_type": "execute_result"
    },
    {
     "data": {
      "image/png": "[encoded data removed]",
      "text/plain": [
       "<Figure size 640x480 with 1 Axes>"
      ]
     },
     "metadata": {},
     "output_type": "display_data"
    }
   ],
   "source": [
    "sns.histplot(p_values_frod_share, bins=30)"
   ]
  },
  {
   "cell_type": "code",
   "execution_count": 338,
   "id": "a90e9233-bef5-4f15-a32f-b9592ba535ef",
   "metadata": {},
   "outputs": [
    {
     "data": {
      "text/plain": [
       "np.float64(4.85)"
      ]
     },
     "execution_count": 338,
     "metadata": {},
     "output_type": "execute_result"
    }
   ],
   "source": [
    "round(((np.array(p_values_frod_share) <= 0.05).mean()) * 100, 5)"
   ]
  },
  {
   "cell_type": "markdown",
   "id": "95f28c3c-f2e8-4d9c-be13-f8c1e95561a7",
   "metadata": {},
   "source": [
    "В t-тесте p-value оказалось меньше либо равно 0.05 в 4.85% случаев. Видно, что вероятность ошибки 1-го рода контролируется."
   ]
  },
  {
   "cell_type": "markdown",
   "id": "ff931dac-62cc-4a27-ad3c-16ff4e7335b2",
   "metadata": {
    "jp-MarkdownHeadingCollapsed": true
   },
   "source": [
    "## 3. Ответы на вопросы"
   ]
  },
  {
   "cell_type": "markdown",
   "id": "e1ca832d-40d2-427c-8b11-efafe2b4e9ec",
   "metadata": {},
   "source": [
    "### Как определить, какой продавец мошенник, а какой — нет?\n",
    "\n",
    "Для определения мошенников можно в процессе регистрации обязать загружать документы и проверять их на подлинность.\n",
    "\n",
    "Также в процессе регистрации можно обязать привязывать аккаунт в приложении \"Мой налог\" для ИП. Нужно проверить расчетный счет, он должен принадлежать юр. лицу продавца.\n",
    "\n",
    "Можно также проверить код ОКВЭД и его соответствие товарам продавца.\n",
    "\n",
    "Также стоит проверять расчетные счета и ИНН на уникальность, т.е. если продавец с такими ж е данными уже есть в нашей бд, то это возможный мошеннник.\n",
    "\n",
    "Если говорить об определении активированных мошенников, то тут нужно анализировать действия продавцов. Наприме, если продавец выставляет товар сильно ниже рыночной цены.\n",
    "\n",
    "### Какие ещё могут быть схемы мошенничества?\n",
    "\n",
    "- Фрод с фиктивными продажами. Продавец сам заказывает у себя товары, чтобы создать иллюзию доверенного продавца, а затем исчезает с реальными заказами.\n",
    "\n",
    "- Подмена товара. Отправка дешевого или поддельного товара вместо обещанного.\n",
    "\n",
    "- Кража личных данных через спам-звонок. Фродер звонит человеку, представляется сотрудником маркетплейса и просит подтвердить данные о доставке, ссылаясь на стандартную процедуру. Этой схемой можно выманить у покупателей логины и пароли от учётных записей.\n",
    "\n",
    "\n",
    "### Какие продуктовые фичи могут помочь нашим клиентам избежать неприятных ситуаций с мошенничеством?\n",
    "\n",
    "- Автоматическое предупреждение, если продавец предлагает покупку вне платформы.\n",
    "\n",
    "- Автоматическое предупреждение, если юзер пытается написать в чат номер телефона.\n",
    "\n",
    "- Автоматическое предупреждение, настроенное при написании продавцом определенных фраз.\n",
    "        \n",
    "- Условное замораживание средств до подтверждения получения товара.\n",
    "\n",
    "- Фрод-модель с анализом аномального поведения продавцов.\n",
    "\n",
    "### Через какую механику мошенник узнает контакты покупателя? Что можем сделать, чтобы усложнить жизнь фродерам?\n",
    "\n",
    "\n",
    "- Через личные сообщения.\n",
    "    \n",
    "- Вложенные файлы или изображения с контактными данными.\n",
    "    \n",
    "- Использование шаблонных ответов с обходными методами передачи информации.\n",
    "    \n",
    "- Встроенные ссылки в описаниях товаров или контакты продавца.\n",
    "\n",
    "\n",
    "### Как усложнить жизнь мошенникам?\n",
    "\n",
    "- Фильтрация сообщений и автоматическая замена контактных данных.\n",
    "    \n",
    "- Предупреждения покупателям при попытке общения вне платформы.\n",
    "    \n",
    "- Анализ описаний товаров на предмет скрытых ссылок."
   ]
  },
  {
   "cell_type": "code",
   "execution_count": null,
   "id": "0fd7647f-3266-4fb4-829b-0fafb2584a61",
   "metadata": {},
   "outputs": [],
   "source": []
  }
 ],
 "metadata": {
  "kernelspec": {
   "display_name": "Python 3 (ipykernel)",
   "language": "python",
   "name": "python3"
  },
  "language_info": {
   "codemirror_mode": {
    "name": "ipython",
    "version": 3
   },
   "file_extension": ".py",
   "mimetype": "text/x-python",
   "name": "python",
   "nbconvert_exporter": "python",
   "pygments_lexer": "ipython3",
   "version": "3.13.0"
  }
 },
 "nbformat": 4,
 "nbformat_minor": 5
}
